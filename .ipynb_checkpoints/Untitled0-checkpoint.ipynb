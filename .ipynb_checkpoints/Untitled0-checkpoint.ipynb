{
 "metadata": {
  "name": "",
  "signature": "sha256:7f844f1507234977f2e9de0339990f463ab631c196d27a57d10ab76366f778a1"
 },
 "nbformat": 3,
 "nbformat_minor": 0,
 "worksheets": []
}