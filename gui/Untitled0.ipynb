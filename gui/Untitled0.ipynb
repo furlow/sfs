{
 "metadata": {
  "name": "",
  "signature": "sha256:0bcce81f44bee43ce4137b017a8b2e84c17fe6984c137502738c558ac728cad3"
 },
 "nbformat": 3,
 "nbformat_minor": 0,
 "worksheets": [
  {
   "cells": [
    {
     "cell_type": "code",
     "collapsed": false,
     "input": [
      "from pylab import imread, imshow"
     ],
     "language": "python",
     "metadata": {},
     "outputs": [],
     "prompt_number": 1
    },
    {
     "cell_type": "code",
     "collapsed": false,
     "input": [
      "import os"
     ],
     "language": "python",
     "metadata": {},
     "outputs": [],
     "prompt_number": 2
    },
    {
     "cell_type": "code",
     "collapsed": false,
     "input": [
      "os.listdir(\".\")"
     ],
     "language": "python",
     "metadata": {},
     "outputs": [
      {
       "metadata": {},
       "output_type": "pyout",
       "prompt_number": 3,
       "text": [
        "['.DS_Store',\n",
        " '.idea',\n",
        " 'calculator.py',\n",
        " 'design.txt',\n",
        " 'gui_button.py',\n",
        " 'gui_test.py',\n",
        " 'redrock.jpg',\n",
        " 'tutorial8.py',\n",
        " 'tutorial9.py',\n",
        " 'Untitled0.ipynb']"
       ]
      }
     ],
     "prompt_number": 3
    },
    {
     "cell_type": "code",
     "collapsed": false,
     "input": [
      "img = imread(\"redrock.jpg\")"
     ],
     "language": "python",
     "metadata": {},
     "outputs": [],
     "prompt_number": 4
    },
    {
     "cell_type": "code",
     "collapsed": false,
     "input": [
      "imshow(img)"
     ],
     "language": "python",
     "metadata": {},
     "outputs": [
      {
       "metadata": {},
       "output_type": "pyout",
       "prompt_number": 6,
       "text": [
        "<matplotlib.image.AxesImage at 0x105e8f590>"
       ]
      }
     ],
     "prompt_number": 6
    },
    {
     "cell_type": "code",
     "collapsed": false,
     "input": [
      "imshow(img)"
     ],
     "language": "python",
     "metadata": {},
     "outputs": [
      {
       "metadata": {},
       "output_type": "pyout",
       "prompt_number": 7,
       "text": [
        "<matplotlib.image.AxesImage at 0x105e8f9d0>"
       ]
      }
     ],
     "prompt_number": 7
    },
    {
     "cell_type": "code",
     "collapsed": false,
     "input": [
      "imshow(img)"
     ],
     "language": "python",
     "metadata": {},
     "outputs": [
      {
       "ename": "NameError",
       "evalue": "name 'imshow' is not defined",
       "output_type": "pyerr",
       "traceback": [
        "\u001b[0;31m---------------------------------------------------------------------------\u001b[0m\n\u001b[0;31mNameError\u001b[0m                                 Traceback (most recent call last)",
        "\u001b[0;32m<ipython-input-1-a7055b8f173d>\u001b[0m in \u001b[0;36m<module>\u001b[0;34m()\u001b[0m\n\u001b[0;32m----> 1\u001b[0;31m \u001b[0mimshow\u001b[0m\u001b[0;34m(\u001b[0m\u001b[0mimg\u001b[0m\u001b[0;34m)\u001b[0m\u001b[0;34m\u001b[0m\u001b[0m\n\u001b[0m",
        "\u001b[0;31mNameError\u001b[0m: name 'imshow' is not defined"
       ]
      }
     ],
     "prompt_number": 1
    },
    {
     "cell_type": "code",
     "collapsed": false,
     "input": [
      "from pylab import imread, imshow"
     ],
     "language": "python",
     "metadata": {},
     "outputs": [],
     "prompt_number": 1
    },
    {
     "cell_type": "code",
     "collapsed": false,
     "input": [
      "img = imread(\"redrock.jpg\")"
     ],
     "language": "python",
     "metadata": {},
     "outputs": [],
     "prompt_number": 2
    },
    {
     "cell_type": "code",
     "collapsed": false,
     "input": [
      "img"
     ],
     "language": "python",
     "metadata": {},
     "outputs": [
      {
       "metadata": {},
       "output_type": "pyout",
       "prompt_number": 3,
       "text": [
        "array([[[115,  70,  49],\n",
        "        [118,  72,  49],\n",
        "        [113,  63,  36],\n",
        "        ..., \n",
        "        [107,  72,  42],\n",
        "        [134,  99,  69],\n",
        "        [130,  95,  67]],\n",
        "\n",
        "       [[108,  65,  46],\n",
        "        [120,  74,  51],\n",
        "        [122,  75,  47],\n",
        "        ..., \n",
        "        [106,  71,  41],\n",
        "        [118,  83,  53],\n",
        "        [109,  74,  46]],\n",
        "\n",
        "       [[112,  69,  50],\n",
        "        [122,  77,  54],\n",
        "        [127,  80,  54],\n",
        "        ..., \n",
        "        [102,  67,  37],\n",
        "        [ 99,  64,  34],\n",
        "        [ 92,  57,  29]],\n",
        "\n",
        "       ..., \n",
        "       [[  7,   7,   7],\n",
        "        [  7,   7,   7],\n",
        "        [  7,   7,   7],\n",
        "        ..., \n",
        "        [  9,   9,   9],\n",
        "        [  9,   9,   9],\n",
        "        [  9,   9,   9]],\n",
        "\n",
        "       [[  8,   8,   8],\n",
        "        [  8,   8,   8],\n",
        "        [  8,   8,   8],\n",
        "        ..., \n",
        "        [  7,   7,   7],\n",
        "        [  7,   7,   7],\n",
        "        [  7,   7,   7]],\n",
        "\n",
        "       [[  8,   8,   8],\n",
        "        [  8,   8,   8],\n",
        "        [  8,   8,   8],\n",
        "        ..., \n",
        "        [  7,   7,   7],\n",
        "        [  7,   7,   7],\n",
        "        [  7,   7,   7]]], dtype=uint8)"
       ]
      }
     ],
     "prompt_number": 3
    },
    {
     "cell_type": "code",
     "collapsed": false,
     "input": [
      "img.type"
     ],
     "language": "python",
     "metadata": {},
     "outputs": [
      {
       "ename": "AttributeError",
       "evalue": "'numpy.ndarray' object has no attribute 'type'",
       "output_type": "pyerr",
       "traceback": [
        "\u001b[0;31m---------------------------------------------------------------------------\u001b[0m\n\u001b[0;31mAttributeError\u001b[0m                            Traceback (most recent call last)",
        "\u001b[0;32m<ipython-input-4-812603d8494e>\u001b[0m in \u001b[0;36m<module>\u001b[0;34m()\u001b[0m\n\u001b[0;32m----> 1\u001b[0;31m \u001b[0mimg\u001b[0m\u001b[0;34m.\u001b[0m\u001b[0mtype\u001b[0m\u001b[0;34m\u001b[0m\u001b[0m\n\u001b[0m",
        "\u001b[0;31mAttributeError\u001b[0m: 'numpy.ndarray' object has no attribute 'type'"
       ]
      }
     ],
     "prompt_number": 4
    },
    {
     "cell_type": "code",
     "collapsed": false,
     "input": [
      "from IPython.display import Image"
     ],
     "language": "python",
     "metadata": {},
     "outputs": [],
     "prompt_number": 5
    },
    {
     "cell_type": "code",
     "collapsed": false,
     "input": [
      "Image(img)"
     ],
     "language": "python",
     "metadata": {},
     "outputs": [
      {
       "output_type": "stream",
       "stream": "stderr",
       "text": [
        "/Users/josh/anaconda/lib/python2.7/site-packages/IPython/core/formatters.py:249: FormatterWarning: image/png formatter returned invalid type <type 'numpy.ndarray'> (expected (<type 'str'>, <type 'unicode'>)) for object: <IPython.core.display.Image object at 0x105f9acd0>\n",
        "  FormatterWarning\n"
       ]
      },
      {
       "metadata": {},
       "output_type": "pyout",
       "prompt_number": 6,
       "text": [
        "<IPython.core.display.Image at 0x105f9acd0>"
       ]
      }
     ],
     "prompt_number": 6
    },
    {
     "cell_type": "code",
     "collapsed": false,
     "input": [
      "Image(\"redrock.jpg\")"
     ],
     "language": "python",
     "metadata": {},
     "outputs": [
      {
       "jpeg": "[encoded data removed]",
       "metadata": {},
       "output_type": "pyout",
       "prompt_number": 7,
       "text": [
        "<IPython.core.display.Image at 0x105f9add0>"
       ]
      }
     ],
     "prompt_number": 7
    },
    {
     "cell_type": "heading",
     "level": 3,
     "metadata": {},
     "source": [
      "img"
     ]
    },
    {
     "cell_type": "code",
     "collapsed": false,
     "input": [
      "print(img)"
     ],
     "language": "python",
     "metadata": {},
     "outputs": [
      {
       "output_type": "stream",
       "stream": "stdout",
       "text": [
        "[[[115  70  49]\n",
        "  [118  72  49]\n",
        "  [113  63  36]\n",
        "  ..., \n",
        "  [107  72  42]\n",
        "  [134  99  69]\n",
        "  [130  95  67]]\n",
        "\n",
        " [[108  65  46]\n",
        "  [120  74  51]\n",
        "  [122  75  47]\n",
        "  ..., \n",
        "  [106  71  41]\n",
        "  [118  83  53]\n",
        "  [109  74  46]]\n",
        "\n",
        " [[112  69  50]\n",
        "  [122  77  54]\n",
        "  [127  80  54]\n",
        "  ..., \n",
        "  [102  67  37]\n",
        "  [ 99  64  34]\n",
        "  [ 92  57  29]]\n",
        "\n",
        " ..., \n",
        " [[  7   7   7]\n",
        "  [  7   7   7]\n",
        "  [  7   7   7]\n",
        "  ..., \n",
        "  [  9   9   9]\n",
        "  [  9   9   9]\n",
        "  [  9   9   9]]\n",
        "\n",
        " [[  8   8   8]\n",
        "  [  8   8   8]\n",
        "  [  8   8   8]\n",
        "  ..., \n",
        "  [  7   7   7]\n",
        "  [  7   7   7]\n",
        "  [  7   7   7]]\n",
        "\n",
        " [[  8   8   8]\n",
        "  [  8   8   8]\n",
        "  [  8   8   8]\n",
        "  ..., \n",
        "  [  7   7   7]\n",
        "  [  7   7   7]\n",
        "  [  7   7   7]]]\n"
       ]
      }
     ],
     "prompt_number": 9
    },
    {
     "cell_type": "code",
     "collapsed": false,
     "input": [
      "np.zeros( [2, 5, 3], dtype = np.uint8, order = \"C\")"
     ],
     "language": "python",
     "metadata": {},
     "outputs": [
      {
       "metadata": {},
       "output_type": "pyout",
       "prompt_number": 20,
       "text": [
        "array([[[0, 0, 0],\n",
        "        [0, 0, 0],\n",
        "        [0, 0, 0],\n",
        "        [0, 0, 0],\n",
        "        [0, 0, 0]],\n",
        "\n",
        "       [[0, 0, 0],\n",
        "        [0, 0, 0],\n",
        "        [0, 0, 0],\n",
        "        [0, 0, 0],\n",
        "        [0, 0, 0]]], dtype=uint8)"
       ]
      }
     ],
     "prompt_number": 20
    },
    {
     "cell_type": "code",
     "collapsed": false,
     "input": [
      "import numpy as np"
     ],
     "language": "python",
     "metadata": {},
     "outputs": [],
     "prompt_number": 11
    },
    {
     "cell_type": "code",
     "collapsed": false,
     "input": [
      "&img"
     ],
     "language": "python",
     "metadata": {},
     "outputs": [
      {
       "ename": "SyntaxError",
       "evalue": "invalid syntax (<ipython-input-21-8af266ae0ff6>, line 1)",
       "output_type": "pyerr",
       "traceback": [
        "\u001b[0;36m  File \u001b[0;32m\"<ipython-input-21-8af266ae0ff6>\"\u001b[0;36m, line \u001b[0;32m1\u001b[0m\n\u001b[0;31m    &img\u001b[0m\n\u001b[0m    ^\u001b[0m\n\u001b[0;31mSyntaxError\u001b[0m\u001b[0;31m:\u001b[0m invalid syntax\n"
       ]
      }
     ],
     "prompt_number": 21
    },
    {
     "cell_type": "code",
     "collapsed": false,
     "input": [
      "&img[0]"
     ],
     "language": "python",
     "metadata": {},
     "outputs": [
      {
       "ename": "SyntaxError",
       "evalue": "invalid syntax (<ipython-input-22-0b49f5fafefa>, line 1)",
       "output_type": "pyerr",
       "traceback": [
        "\u001b[0;36m  File \u001b[0;32m\"<ipython-input-22-0b49f5fafefa>\"\u001b[0;36m, line \u001b[0;32m1\u001b[0m\n\u001b[0;31m    &img[0]\u001b[0m\n\u001b[0m    ^\u001b[0m\n\u001b[0;31mSyntaxError\u001b[0m\u001b[0;31m:\u001b[0m invalid syntax\n"
       ]
      }
     ],
     "prompt_number": 22
    },
    {
     "cell_type": "code",
     "collapsed": false,
     "input": [],
     "language": "python",
     "metadata": {},
     "outputs": []
    }
   ],
   "metadata": {}
  }
 ]
}